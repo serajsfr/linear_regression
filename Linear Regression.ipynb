{
 "cells": [
  {
   "cell_type": "markdown",
   "id": "1d82d7b0-fc95-4c6e-8251-18d97f73bd3c",
   "metadata": {},
   "source": [
    "# Imports"
   ]
  },
  {
   "cell_type": "code",
   "execution_count": 2,
   "id": "a44cf2b7-df57-4f38-aece-4fd8e63c6f24",
   "metadata": {},
   "outputs": [],
   "source": [
    "import pandas as pd\n",
    "import matplotlib.pyplot as plt\n",
    "import numpy as np"
   ]
  },
  {
   "cell_type": "markdown",
   "id": "2b3689f5-ae11-45f5-8b83-3866c1678d2f",
   "metadata": {},
   "source": [
    "# Create Dataset"
   ]
  },
  {
   "cell_type": "code",
   "execution_count": 3,
   "id": "422584cf-dc65-46ee-b319-26ea820d6bce",
   "metadata": {},
   "outputs": [
    {
     "name": "stdout",
     "output_type": "stream",
     "text": [
      "(500,)\n",
      "(500,)\n"
     ]
    }
   ],
   "source": [
    "df = pd.read_csv(\"ecommerce.txt\")\n",
    "x = np.array(df[\"Length of Membership\"])\n",
    "y = np.array(df[\"Yearly Amount Spent\"])\n",
    "\n",
    "print(x.shape)\n",
    "print(y.shape)"
   ]
  },
  {
   "cell_type": "markdown",
   "id": "8537d0c4-f51c-410b-a43a-52a0c48d2029",
   "metadata": {},
   "source": [
    "# Data frame Overview"
   ]
  },
  {
   "cell_type": "code",
   "execution_count": 8,
   "id": "9aead439-afb9-44e8-b60f-f57d49b40264",
   "metadata": {},
   "outputs": [
    {
     "data": {
      "text/html": [
       "<div>\n",
       "<style scoped>\n",
       "    .dataframe tbody tr th:only-of-type {\n",
       "        vertical-align: middle;\n",
       "    }\n",
       "\n",
       "    .dataframe tbody tr th {\n",
       "        vertical-align: top;\n",
       "    }\n",
       "\n",
       "    .dataframe thead th {\n",
       "        text-align: right;\n",
       "    }\n",
       "</style>\n",
       "<table border=\"1\" class=\"dataframe\">\n",
       "  <thead>\n",
       "    <tr style=\"text-align: right;\">\n",
       "      <th></th>\n",
       "      <th>Avg. Session Length</th>\n",
       "      <th>Time on App</th>\n",
       "      <th>Time on Website</th>\n",
       "      <th>Length of Membership</th>\n",
       "      <th>Yearly Amount Spent</th>\n",
       "    </tr>\n",
       "  </thead>\n",
       "  <tbody>\n",
       "    <tr>\n",
       "      <th>count</th>\n",
       "      <td>500.000000</td>\n",
       "      <td>500.000000</td>\n",
       "      <td>500.000000</td>\n",
       "      <td>500.000000</td>\n",
       "      <td>500.000000</td>\n",
       "    </tr>\n",
       "    <tr>\n",
       "      <th>mean</th>\n",
       "      <td>33.053194</td>\n",
       "      <td>12.052488</td>\n",
       "      <td>37.060445</td>\n",
       "      <td>3.533462</td>\n",
       "      <td>499.314038</td>\n",
       "    </tr>\n",
       "    <tr>\n",
       "      <th>std</th>\n",
       "      <td>0.992563</td>\n",
       "      <td>0.994216</td>\n",
       "      <td>1.010489</td>\n",
       "      <td>0.999278</td>\n",
       "      <td>79.314782</td>\n",
       "    </tr>\n",
       "    <tr>\n",
       "      <th>min</th>\n",
       "      <td>29.532429</td>\n",
       "      <td>8.508152</td>\n",
       "      <td>33.913847</td>\n",
       "      <td>0.269901</td>\n",
       "      <td>256.670582</td>\n",
       "    </tr>\n",
       "    <tr>\n",
       "      <th>25%</th>\n",
       "      <td>32.341822</td>\n",
       "      <td>11.388153</td>\n",
       "      <td>36.349257</td>\n",
       "      <td>2.930450</td>\n",
       "      <td>445.038277</td>\n",
       "    </tr>\n",
       "    <tr>\n",
       "      <th>50%</th>\n",
       "      <td>33.082008</td>\n",
       "      <td>11.983231</td>\n",
       "      <td>37.069367</td>\n",
       "      <td>3.533975</td>\n",
       "      <td>498.887875</td>\n",
       "    </tr>\n",
       "    <tr>\n",
       "      <th>75%</th>\n",
       "      <td>33.711985</td>\n",
       "      <td>12.753850</td>\n",
       "      <td>37.716432</td>\n",
       "      <td>4.126502</td>\n",
       "      <td>549.313828</td>\n",
       "    </tr>\n",
       "    <tr>\n",
       "      <th>max</th>\n",
       "      <td>36.139662</td>\n",
       "      <td>15.126994</td>\n",
       "      <td>40.005182</td>\n",
       "      <td>6.922689</td>\n",
       "      <td>765.518462</td>\n",
       "    </tr>\n",
       "  </tbody>\n",
       "</table>\n",
       "</div>"
      ],
      "text/plain": [
       "       Avg. Session Length  Time on App  Time on Website  \\\n",
       "count           500.000000   500.000000       500.000000   \n",
       "mean             33.053194    12.052488        37.060445   \n",
       "std               0.992563     0.994216         1.010489   \n",
       "min              29.532429     8.508152        33.913847   \n",
       "25%              32.341822    11.388153        36.349257   \n",
       "50%              33.082008    11.983231        37.069367   \n",
       "75%              33.711985    12.753850        37.716432   \n",
       "max              36.139662    15.126994        40.005182   \n",
       "\n",
       "       Length of Membership  Yearly Amount Spent  \n",
       "count            500.000000           500.000000  \n",
       "mean               3.533462           499.314038  \n",
       "std                0.999278            79.314782  \n",
       "min                0.269901           256.670582  \n",
       "25%                2.930450           445.038277  \n",
       "50%                3.533975           498.887875  \n",
       "75%                4.126502           549.313828  \n",
       "max                6.922689           765.518462  "
      ]
     },
     "execution_count": 8,
     "metadata": {},
     "output_type": "execute_result"
    }
   ],
   "source": [
    "df.describe()"
   ]
  },
  {
   "cell_type": "markdown",
   "id": "a6be5b58-39ea-4812-ab18-d814c7deb83a",
   "metadata": {},
   "source": [
    "# Plot Data"
   ]
  },
  {
   "cell_type": "code",
   "execution_count": 21,
   "id": "3d393a13-fa7e-4627-a5a6-c8ed657a74c0",
   "metadata": {},
   "outputs": [
    {
     "data": {
      "image/png": "[encoded data removed]",
      "text/plain": [
       "<Figure size 400x400 with 1 Axes>"
      ]
     },
     "metadata": {},
     "output_type": "display_data"
    }
   ],
   "source": [
    "fig, axs = plt.subplots(1, 1, figsize=(4, 4))\n",
    "\n",
    "axs.set_title(\"Data\")\n",
    "axs.set_xlabel(\"X\")\n",
    "axs.set_ylabel(\"Y\")\n",
    "axs.plot(x, y, 'o')\n",
    "\n",
    "plt.tight_layout()\n",
    "plt.show()"
   ]
  },
  {
   "cell_type": "markdown",
   "id": "318977b4-1c6c-468b-9005-f13aa7e16361",
   "metadata": {},
   "source": [
    "# Some rows of data"
   ]
  },
  {
   "cell_type": "code",
   "execution_count": 22,
   "id": "061ee126-4e61-4158-929d-bc6da49cec72",
   "metadata": {},
   "outputs": [
    {
     "data": {
      "text/html": [
       "<div>\n",
       "<style scoped>\n",
       "    .dataframe tbody tr th:only-of-type {\n",
       "        vertical-align: middle;\n",
       "    }\n",
       "\n",
       "    .dataframe tbody tr th {\n",
       "        vertical-align: top;\n",
       "    }\n",
       "\n",
       "    .dataframe thead th {\n",
       "        text-align: right;\n",
       "    }\n",
       "</style>\n",
       "<table border=\"1\" class=\"dataframe\">\n",
       "  <thead>\n",
       "    <tr style=\"text-align: right;\">\n",
       "      <th></th>\n",
       "      <th>Email</th>\n",
       "      <th>Address</th>\n",
       "      <th>Avatar</th>\n",
       "      <th>Avg. Session Length</th>\n",
       "      <th>Time on App</th>\n",
       "      <th>Time on Website</th>\n",
       "      <th>Length of Membership</th>\n",
       "      <th>Yearly Amount Spent</th>\n",
       "    </tr>\n",
       "  </thead>\n",
       "  <tbody>\n",
       "    <tr>\n",
       "      <th>0</th>\n",
       "      <td>mstephenson@fernandez.com</td>\n",
       "      <td>835 Frank Tunnel\\nWrightmouth, MI 82180-9605</td>\n",
       "      <td>Violet</td>\n",
       "      <td>34.497268</td>\n",
       "      <td>12.655651</td>\n",
       "      <td>39.577668</td>\n",
       "      <td>4.082621</td>\n",
       "      <td>587.951054</td>\n",
       "    </tr>\n",
       "    <tr>\n",
       "      <th>1</th>\n",
       "      <td>hduke@hotmail.com</td>\n",
       "      <td>4547 Archer Common\\nDiazchester, CA 06566-8576</td>\n",
       "      <td>DarkGreen</td>\n",
       "      <td>31.926272</td>\n",
       "      <td>11.109461</td>\n",
       "      <td>37.268959</td>\n",
       "      <td>2.664034</td>\n",
       "      <td>392.204933</td>\n",
       "    </tr>\n",
       "    <tr>\n",
       "      <th>2</th>\n",
       "      <td>pallen@yahoo.com</td>\n",
       "      <td>24645 Valerie Unions Suite 582\\nCobbborough, D...</td>\n",
       "      <td>Bisque</td>\n",
       "      <td>33.000915</td>\n",
       "      <td>11.330278</td>\n",
       "      <td>37.110597</td>\n",
       "      <td>4.104543</td>\n",
       "      <td>487.547505</td>\n",
       "    </tr>\n",
       "    <tr>\n",
       "      <th>3</th>\n",
       "      <td>riverarebecca@gmail.com</td>\n",
       "      <td>1414 David Throughway\\nPort Jason, OH 22070-1220</td>\n",
       "      <td>SaddleBrown</td>\n",
       "      <td>34.305557</td>\n",
       "      <td>13.717514</td>\n",
       "      <td>36.721283</td>\n",
       "      <td>3.120179</td>\n",
       "      <td>581.852344</td>\n",
       "    </tr>\n",
       "    <tr>\n",
       "      <th>4</th>\n",
       "      <td>mstephens@davidson-herman.com</td>\n",
       "      <td>14023 Rodriguez Passage\\nPort Jacobville, PR 3...</td>\n",
       "      <td>MediumAquaMarine</td>\n",
       "      <td>33.330673</td>\n",
       "      <td>12.795189</td>\n",
       "      <td>37.536653</td>\n",
       "      <td>4.446308</td>\n",
       "      <td>599.406092</td>\n",
       "    </tr>\n",
       "    <tr>\n",
       "      <th>5</th>\n",
       "      <td>alvareznancy@lucas.biz</td>\n",
       "      <td>645 Martha Park Apt. 611\\nJeffreychester, MN 6...</td>\n",
       "      <td>FloralWhite</td>\n",
       "      <td>33.871038</td>\n",
       "      <td>12.026925</td>\n",
       "      <td>34.476878</td>\n",
       "      <td>5.493507</td>\n",
       "      <td>637.102448</td>\n",
       "    </tr>\n",
       "    <tr>\n",
       "      <th>6</th>\n",
       "      <td>katherine20@yahoo.com</td>\n",
       "      <td>68388 Reyes Lights Suite 692\\nJosephbury, WV 9...</td>\n",
       "      <td>DarkSlateBlue</td>\n",
       "      <td>32.021596</td>\n",
       "      <td>11.366348</td>\n",
       "      <td>36.683776</td>\n",
       "      <td>4.685017</td>\n",
       "      <td>521.572175</td>\n",
       "    </tr>\n",
       "    <tr>\n",
       "      <th>7</th>\n",
       "      <td>awatkins@yahoo.com</td>\n",
       "      <td>Unit 6538 Box 8980\\nDPO AP 09026-4941</td>\n",
       "      <td>Aqua</td>\n",
       "      <td>32.739143</td>\n",
       "      <td>12.351959</td>\n",
       "      <td>37.373359</td>\n",
       "      <td>4.434273</td>\n",
       "      <td>549.904146</td>\n",
       "    </tr>\n",
       "    <tr>\n",
       "      <th>8</th>\n",
       "      <td>vchurch@walter-martinez.com</td>\n",
       "      <td>860 Lee Key\\nWest Debra, SD 97450-0495</td>\n",
       "      <td>Salmon</td>\n",
       "      <td>33.987773</td>\n",
       "      <td>13.386235</td>\n",
       "      <td>37.534497</td>\n",
       "      <td>3.273434</td>\n",
       "      <td>570.200409</td>\n",
       "    </tr>\n",
       "    <tr>\n",
       "      <th>9</th>\n",
       "      <td>bonnie69@lin.biz</td>\n",
       "      <td>PSC 2734, Box 5255\\nAPO AA 98456-7482</td>\n",
       "      <td>Brown</td>\n",
       "      <td>31.936549</td>\n",
       "      <td>11.814128</td>\n",
       "      <td>37.145168</td>\n",
       "      <td>3.202806</td>\n",
       "      <td>427.199385</td>\n",
       "    </tr>\n",
       "  </tbody>\n",
       "</table>\n",
       "</div>"
      ],
      "text/plain": [
       "                           Email  \\\n",
       "0      mstephenson@fernandez.com   \n",
       "1              hduke@hotmail.com   \n",
       "2               pallen@yahoo.com   \n",
       "3        riverarebecca@gmail.com   \n",
       "4  mstephens@davidson-herman.com   \n",
       "5         alvareznancy@lucas.biz   \n",
       "6          katherine20@yahoo.com   \n",
       "7             awatkins@yahoo.com   \n",
       "8    vchurch@walter-martinez.com   \n",
       "9               bonnie69@lin.biz   \n",
       "\n",
       "                                             Address            Avatar  \\\n",
       "0       835 Frank Tunnel\\nWrightmouth, MI 82180-9605            Violet   \n",
       "1     4547 Archer Common\\nDiazchester, CA 06566-8576         DarkGreen   \n",
       "2  24645 Valerie Unions Suite 582\\nCobbborough, D...            Bisque   \n",
       "3   1414 David Throughway\\nPort Jason, OH 22070-1220       SaddleBrown   \n",
       "4  14023 Rodriguez Passage\\nPort Jacobville, PR 3...  MediumAquaMarine   \n",
       "5  645 Martha Park Apt. 611\\nJeffreychester, MN 6...       FloralWhite   \n",
       "6  68388 Reyes Lights Suite 692\\nJosephbury, WV 9...     DarkSlateBlue   \n",
       "7              Unit 6538 Box 8980\\nDPO AP 09026-4941              Aqua   \n",
       "8             860 Lee Key\\nWest Debra, SD 97450-0495            Salmon   \n",
       "9              PSC 2734, Box 5255\\nAPO AA 98456-7482             Brown   \n",
       "\n",
       "   Avg. Session Length  Time on App  Time on Website  Length of Membership  \\\n",
       "0            34.497268    12.655651        39.577668              4.082621   \n",
       "1            31.926272    11.109461        37.268959              2.664034   \n",
       "2            33.000915    11.330278        37.110597              4.104543   \n",
       "3            34.305557    13.717514        36.721283              3.120179   \n",
       "4            33.330673    12.795189        37.536653              4.446308   \n",
       "5            33.871038    12.026925        34.476878              5.493507   \n",
       "6            32.021596    11.366348        36.683776              4.685017   \n",
       "7            32.739143    12.351959        37.373359              4.434273   \n",
       "8            33.987773    13.386235        37.534497              3.273434   \n",
       "9            31.936549    11.814128        37.145168              3.202806   \n",
       "\n",
       "   Yearly Amount Spent  \n",
       "0           587.951054  \n",
       "1           392.204933  \n",
       "2           487.547505  \n",
       "3           581.852344  \n",
       "4           599.406092  \n",
       "5           637.102448  \n",
       "6           521.572175  \n",
       "7           549.904146  \n",
       "8           570.200409  \n",
       "9           427.199385  "
      ]
     },
     "execution_count": 22,
     "metadata": {},
     "output_type": "execute_result"
    }
   ],
   "source": [
    "df.head(10)"
   ]
  },
  {
   "cell_type": "markdown",
   "id": "7ce60e59-d558-4d1f-b2f0-72c86f5552af",
   "metadata": {},
   "source": [
    "# Normalizing Data"
   ]
  },
  {
   "cell_type": "code",
   "execution_count": 24,
   "id": "8dcd8714-297f-45ab-81fb-697427afaac5",
   "metadata": {},
   "outputs": [],
   "source": [
    "x = np.array([i / max(x) for i in x])\n",
    "y = np.array([i / max(y) for i in y])"
   ]
  },
  {
   "cell_type": "markdown",
   "id": "5e52b91a-3928-4e66-a8f7-503804dbe226",
   "metadata": {},
   "source": [
    "# F"
   ]
  },
  {
   "cell_type": "code",
   "execution_count": 25,
   "id": "7bb51c34-fa05-40a4-8ce5-5005e026747c",
   "metadata": {},
   "outputs": [],
   "source": [
    "def F(x, w, b):\n",
    "    return x * w + b"
   ]
  },
  {
   "cell_type": "markdown",
   "id": "e3d0dd59-5dff-48e0-91a2-f6232d722946",
   "metadata": {},
   "source": [
    "# Cost Function"
   ]
  },
  {
   "cell_type": "code",
   "execution_count": 26,
   "id": "e230bb8a-b036-4bd8-982e-4fc9b6845b1b",
   "metadata": {},
   "outputs": [],
   "source": [
    "def cost(x, y, w, b):\n",
    "    m = x.shape[0]\n",
    "    return np.sum((F(x, w, b) - y) ** 2) / (2 * m)"
   ]
  },
  {
   "cell_type": "markdown",
   "id": "debd6c3d-6793-41c4-a284-a18595eaf8fe",
   "metadata": {},
   "source": [
    "# Compute Gradient"
   ]
  },
  {
   "cell_type": "code",
   "execution_count": 27,
   "id": "3070c888-0352-4a53-9195-b1bdf693cc33",
   "metadata": {},
   "outputs": [],
   "source": [
    "def gradient(x, y, w, b):\n",
    "    m = x.shape[0]\n",
    "\n",
    "    f = F(x, w, b) - y\n",
    "    d_dw = np.sum(f * x) / m\n",
    "    d_db = np.sum(f) / m\n",
    "\n",
    "    return d_dw, d_db"
   ]
  },
  {
   "cell_type": "markdown",
   "id": "8ed4132c-50d2-43cd-a509-c0fc2da5c065",
   "metadata": {},
   "source": [
    "# Gradient Descent"
   ]
  },
  {
   "cell_type": "code",
   "execution_count": 29,
   "id": "b3d001c9-a47a-40eb-ab2b-c7a3353ef56a",
   "metadata": {},
   "outputs": [],
   "source": [
    "def gradient_descent(x, y, w_in, b_in, iterations, a, cost_function=None, compute_gradient=None):\n",
    "    cost_history={}\n",
    "    w, b = w_in, b_in\n",
    "    for _ in range(iterations+1):\n",
    "        d_dw, d_db = compute_gradient(x, y, w, b)\n",
    "        w -= a * d_dw\n",
    "        b -= a * d_db\n",
    "\n",
    "        cost = cost_function(x, y, w, b)\n",
    "        if _ % 100 == 0:\n",
    "            print(f\"iteration: {_}\\t|cost: {cost}\")\n",
    "        cost_history[_] = cost\n",
    "\n",
    "    return w, b, cost_history"
   ]
  },
  {
   "cell_type": "markdown",
   "id": "f562ab89-8c41-4a98-8f01-1759440f36eb",
   "metadata": {},
   "source": [
    "# Running Gradient Descent"
   ]
  },
  {
   "cell_type": "code",
   "execution_count": 30,
   "id": "a33b5094-dd4b-43f0-833e-d3af38387b27",
   "metadata": {},
   "outputs": [
    {
     "name": "stdout",
     "output_type": "stream",
     "text": [
      "iteration: 0\t|cost: 0.017932408688698498\n",
      "iteration: 100\t|cost: 0.0018858150869170173\n",
      "iteration: 200\t|cost: 0.0018514145032779825\n",
      "iteration: 300\t|cost: 0.0018501650163057742\n",
      "iteration: 400\t|cost: 0.001850119632840479\n",
      "iteration: 500\t|cost: 0.0018501179844367995\n",
      "iteration: 600\t|cost: 0.001850117924564009\n",
      "iteration: 700\t|cost: 0.0018501179223893288\n",
      "iteration: 800\t|cost: 0.001850117922310341\n",
      "iteration: 900\t|cost: 0.0018501179223074722\n",
      "iteration: 1000\t|cost: 0.001850117922307368\n",
      "\n",
      "Optimum Result -->\n",
      "w: 0.5807384253582762\n",
      "b: 0.3558370010774091\n"
     ]
    }
   ],
   "source": [
    "w_in = 0\n",
    "b_in = 0\n",
    "iterations = 1_000\n",
    "alpha = 1\n",
    "w, b, cost_history = gradient_descent(\n",
    "    x,\n",
    "    y,\n",
    "    w_in,\n",
    "    b_in,\n",
    "    iterations,\n",
    "    alpha,\n",
    "    cost_function=cost,\n",
    "    compute_gradient=gradient,\n",
    ")\n",
    "\n",
    "print(f\"\\nOptimum Result -->\\nw: {w}\\nb: {b}\")"
   ]
  },
  {
   "cell_type": "markdown",
   "id": "7f5f69a1-053f-4d82-af89-573ced0c237d",
   "metadata": {},
   "source": [
    "# Plot Output"
   ]
  },
  {
   "cell_type": "code",
   "execution_count": 31,
   "id": "03ed5fb0-2283-4ea2-bac1-aaa7a658ac7f",
   "metadata": {},
   "outputs": [
    {
     "data": {
      "text/plain": [
       "Text(0.5, 1.0, 'cost per iteration')"
      ]
     },
     "execution_count": 31,
     "metadata": {},
     "output_type": "execute_result"
    },
    {
     "data": {
      "image/png": "[encoded data removed]",
      "text/plain": [
       "<Figure size 1200x400 with 2 Axes>"
      ]
     },
     "metadata": {},
     "output_type": "display_data"
    }
   ],
   "source": [
    "fig, (ex1, ex2) = plt.subplots(1,2, figsize=(12,4))\n",
    "\n",
    "ex1.plot(x, y, 'o')\n",
    "y_hat = w * x + b\n",
    "ex1.plot(x, y_hat)\n",
    "ex1.set_xlabel(\"X\")\n",
    "ex1.set_ylabel(\"Y\")\n",
    "ex1.set_title(\"Model\")\n",
    "\n",
    "ex2.plot(list(cost_history.keys()), list(cost_history.values()))\n",
    "ex2.set_xlabel(\"iteration\")\n",
    "ex2.set_ylabel(\"cost\")\n",
    "ex2.set_title(\"cost per iteration\")"
   ]
  },
  {
   "cell_type": "markdown",
   "id": "e32b4bee-75eb-4c2a-a96e-a57c1412808d",
   "metadata": {},
   "source": [
    "# Accuracy"
   ]
  },
  {
   "cell_type": "code",
   "execution_count": 32,
   "id": "25dd8cf4-3349-40cb-b8a1-a8a626a4774e",
   "metadata": {},
   "outputs": [
    {
     "name": "stdout",
     "output_type": "stream",
     "text": [
      "0.5897448860359474 -> model -> 0.7\t|\tactual output -> 0.7680429450117902\n",
      "0.6644725965579101 -> model -> 0.74\t|\tactual output -> 0.6984883714649645\n",
      "0.6747775661786346 -> model -> 0.75\t|\tactual output -> 0.6959359101967706\n",
      "0.6701615668895631 -> model -> 0.75\t|\tactual output -> 0.8057957497254946\n",
      "0.541947553980428 -> model -> 0.67\t|\tactual output -> 0.639844121794147\n",
      "0.46002622788567094 -> model -> 0.62\t|\tactual output -> 0.6767499201415766\n",
      "0.47565295844069755 -> model -> 0.63\t|\tactual output -> 0.75283772505244\n",
      "0.5718720099615188 -> model -> 0.69\t|\tactual output -> 0.5864434569881645\n",
      "0.47801976484704745 -> model -> 0.63\t|\tactual output -> 0.6125436872343509\n",
      "0.6823977230808207 -> model -> 0.75\t|\tactual output -> 0.675575000874764\n",
      "0.2774522133262408 -> model -> 0.52\t|\tactual output -> 0.6595143781571008\n",
      "0.5313815514350205 -> model -> 0.66\t|\tactual output -> 0.6784591131687839\n",
      "0.3570506417513894 -> model -> 0.56\t|\tactual output -> 0.5201226205899971\n",
      "0.5677873347169289 -> model -> 0.69\t|\tactual output -> 0.8362799486078513\n",
      "0.44582923239055927 -> model -> 0.61\t|\tactual output -> 0.6688014534559606\n",
      "0.5447911858191231 -> model -> 0.67\t|\tactual output -> 0.619122700479931\n",
      "0.1734129322662231 -> model -> 0.46\t|\tactual output -> 0.4815753025908328\n",
      "0.4282292231766122 -> model -> 0.6\t|\tactual output -> 0.6546184271434263\n",
      "0.30904218013344015 -> model -> 0.54\t|\tactual output -> 0.5807516947504402\n",
      "0.46639644363788996 -> model -> 0.63\t|\tactual output -> 0.6894461936564317\n",
      "0.7808246485759062 -> model -> 0.81\t|\tactual output -> 0.8661774347379987\n",
      "0.843675859665197 -> model -> 0.85\t|\tactual output -> 0.8671295681024924\n",
      "0.5126672432728221 -> model -> 0.65\t|\tactual output -> 0.6520288892639846\n",
      "0.5208862832372673 -> model -> 0.66\t|\tactual output -> 0.8084011048624584\n",
      "0.6042656920274021 -> model -> 0.71\t|\tactual output -> 0.7198036743714847\n",
      "\n",
      "\n",
      "***********************\n",
      "*** Accuracy 92.24% ***\n",
      "***********************\n"
     ]
    }
   ],
   "source": [
    "def accuracy(X, Y):\n",
    "    sum = 0\n",
    "    length = len(X)\n",
    "    for i in range(length):\n",
    "        model_output = round(F(X[i], w, b), 2)\n",
    "        actual_output = Y[i]\n",
    "        if i % 20 == 0:\n",
    "            print(f\"{X[i]} -> model -> {model_output}\\t|\\tactual output -> {actual_output}\")\n",
    "        sum += (1 - (abs(model_output - actual_output) / actual_output)) * 100\n",
    "    return sum/length\n",
    "\n",
    "accuracy_final = accuracy(x, y)\n",
    "print(f\"\\n\\n***********************\\n*** Accuracy {round(accuracy_final, 2)}% ***\\n***********************\")"
   ]
  }
 ],
 "metadata": {
  "kernelspec": {
   "display_name": "Python 3 (ipykernel)",
   "language": "python",
   "name": "python3"
  },
  "language_info": {
   "codemirror_mode": {
    "name": "ipython",
    "version": 3
   },
   "file_extension": ".py",
   "mimetype": "text/x-python",
   "name": "python",
   "nbconvert_exporter": "python",
   "pygments_lexer": "ipython3",
   "version": "3.11.7"
  }
 },
 "nbformat": 4,
 "nbformat_minor": 5
}
